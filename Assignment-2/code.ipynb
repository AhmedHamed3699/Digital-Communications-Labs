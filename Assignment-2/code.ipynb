{
 "cells": [
  {
   "cell_type": "code",
   "execution_count": 1,
   "id": "56036270",
   "metadata": {},
   "outputs": [],
   "source": [
    "import numpy as np\n",
    "import matplotlib.pyplot as plt"
   ]
  },
  {
   "cell_type": "code",
   "execution_count": null,
   "id": "29bca2dd",
   "metadata": {},
   "outputs": [],
   "source": [
    "def generate_pulse(n):\n",
    "    return np.random.choice([-1, 1], size=n)\n",
    "\n",
    "def generate_noise(n, N0):\n",
    "    segma = np.sqrt(N0 / 2)\n",
    "    return np.random.normal(loc=0, scale=segma, size=n)\n",
    "\n",
    "def transmit_over_channel(n, N0):\n",
    "    source_bits = generate_pulse(n)\n",
    "    noise = generate_noise(n, N0)\n",
    "    return source_bits + noise\n",
    "\n",
    "def generate_filter(A, type):\n",
    "    if type == \"ramp\":\n",
    "        return np.arange(0, A, 0.1)\n",
    "    return np.array([A]) # matched filter or delta\n",
    "\n",
    "def convolve(signal, filter):\n",
    "    return np.convolve(signal, filter, mode='same')\n",
    "\n",
    "def sample_and_decode(signal, T):\n",
    "    samples = signal[::T]\n",
    "    return np.where(samples >= 0, 1, 0)\n",
    "\n",
    "n = 1000\n",
    "N0 = 0.5\n",
    "T = 1\n",
    "\n",
    "received_signal = transmit_over_channel(n, N0)\n"
   ]
  }
 ],
 "metadata": {
  "kernelspec": {
   "display_name": "neural-networks",
   "language": "python",
   "name": "python3"
  },
  "language_info": {
   "codemirror_mode": {
    "name": "ipython",
    "version": 3
   },
   "file_extension": ".py",
   "mimetype": "text/x-python",
   "name": "python",
   "nbconvert_exporter": "python",
   "pygments_lexer": "ipython3",
   "version": "3.11.11"
  }
 },
 "nbformat": 4,
 "nbformat_minor": 5
}
